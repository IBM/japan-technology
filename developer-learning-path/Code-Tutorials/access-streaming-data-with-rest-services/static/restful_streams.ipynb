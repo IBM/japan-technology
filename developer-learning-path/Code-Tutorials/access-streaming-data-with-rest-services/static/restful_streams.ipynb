{
 "cells": [
  {
   "cell_type": "markdown",
   "metadata": {
    "id": "813033f0c84547ea896b0032b1f889db"
   },
   "source": [
    "# Access streaming data with REST services\n",
    "\n",
    "*Create a service that allows you to send and receive data to your IBM Streams application*\n",
    "\n",
    "## Introduction\n",
    "\n",
    "The goal of this tutorial is to teach you how to add a web service to a streaming application. Streaming apps start with a data source, do some data processing (such as filtering and aggregation), and send the results to one or more targets. By adding a web service with REST endpoints, we'll show you how you can `POST` data to an IBM Streams application and `GET` the data produced by the application\n",
    "This sample demonstrates creating a web service that acts as an event source and event sink for a Streams application. The service runs as an instance on Cloud Pak for Data and provides a REST API that you can use to POST and GET data to/from the application.\n",
    "\n",
    "### How it works\n",
    "   \n",
    "The web service that is created will run as a service instance on Cloud Pak for Data. Your web service clients can run anywhere. You can test it from your command-line with cURL or integrate the Streams application with another application. We'll demonstrate how to test it from a Python notebook and from the web service's built-in Swagger UI.\n",
    "\n",
    "### Prerequisites\n",
    "\n",
    "This notebook requires a **Python 3.6 kernel** on **IBM Cloud Pak for Data 3.5** and an instance of **IBM Streams**.\n",
    "\n",
    "### Links\n",
    "\n",
    "- [Streams Python development guide](https://ibmstreams.github.io/streamsx.documentation/docs/latest/python/)\n",
    "- [Streams Python API](https://streamsxtopology.readthedocs.io/)\n",
    "- [Blog post about feature details and documentation](https://community.ibm.com/community/user/cloudpakfordata/blogs/natasha-dsilva1/2020/12/07/send-and-receive-streaming-data-via-rest-with-ibm?CommunityKey=c0c16ff2-10ef-4b50-ae4c-57d769937235)\n",
    "- [Tutorial: Access streaming data with rest services](/tutorials/access-streaming-data-with-rest-services/)"
   ]
  },
  {
   "cell_type": "markdown",
   "metadata": {
    "id": "813033f0c84547ea896b0032b1f889db"
   },
   "source": [
    "## Configure the Streams instance\n",
    "\n",
    "In order to submit a Streams application you need to provide the name of the Streams instance.\n",
    "\n",
    "1. From the navigation menu, click `Services > Instances`.\n",
    "1. Update the value of `STREAMS_INSTANCE_NAME` to the name of your provisioned Streams instance in the cell below.\n",
    "1. Run the cell and continue to the next cell."
   ]
  },
  {
   "cell_type": "code",
   "execution_count": null,
   "metadata": {
    "id": "9e93f576744c4ef18ab070d3132d8bbb"
   },
   "outputs": [],
   "source": [
    "# Edit to specify the name of the streams instance to use\n",
    "\n",
    "STREAMS_INSTANCE_NAME = \"<your-streams-instance-name>\""
   ]
  },
  {
   "cell_type": "markdown",
   "metadata": {
    "id": "868ab736-48c2-4003-a989-aafcf138410a"
   },
   "source": [
    "#### Set your USERNAME and PASSWORD to use with the REST API\n",
    "Run this cell to be prompted for USERNAME and PASSWORD. These variables will be used to test REST requests later in the notebook."
   ]
  },
  {
   "cell_type": "code",
   "execution_count": null,
   "metadata": {
    "id": "163ab33f-0eea-4db6-b019-e9e721b5d679"
   },
   "outputs": [],
   "source": [
    "import getpass\n",
    "USERNAME = input(\"CPD USERNAME:  \")\n",
    "PASSWORD = getpass.getpass(\"CPD PASSWORD:  \")"
   ]
  },
  {
   "cell_type": "markdown",
   "metadata": {
    "id": "5efe5ce7-0969-4bc6-a3c1-9812ad77acba"
   },
   "source": [
    "## Example 1: Create a Streams application that makes data available via REST\n",
    "This application will use the `EndpointSink` operator to make data from the Streams application accessible via GET requests.\n",
    "We will submit a Streams application that sends data to the endpoint sink. Once the application is running, we will have a new instance of the Streams job service listed under `Instances` in the CPD menu.\n",
    "After getting the REST endpoint from the Streams job service instance, we can use the Python requests module to get data from the Streams application.\n"
   ]
  },
  {
   "cell_type": "markdown",
   "metadata": {
    "id": "8dc155fd-5751-46ba-a90f-351f27171563"
   },
   "source": [
    "### Import `streamsx` and other Python modules"
   ]
  },
  {
   "cell_type": "code",
   "execution_count": null,
   "metadata": {
    "id": "74055cc4-906c-4ba7-b759-d04e72f4c6be"
   },
   "outputs": [],
   "source": [
    "import datetime\n",
    "import os\n",
    "import random\n",
    "import time\n",
    "import typing\n",
    "\n",
    "from streamsx.service import EndpointSink\n",
    "from streamsx.service import EndpointSource\n",
    "from streamsx.topology.topology import Topology\n",
    "import streamsx.topology.context\n",
    "\n",
    "print(\"INFO: streamsx package version: \" + streamsx.topology.context.__version__)\n",
    "\n",
    "# For more details uncomment line below\n",
    "#!pip show streamsx"
   ]
  },
  {
   "cell_type": "markdown",
   "metadata": {
    "id": "813033f0c84547ea896b0032b1f889db"
   },
   "source": [
    "### Create reusable submit_topology method\n",
    "\n",
    "The cell below defines a function called `submit_topology` which will be used in each example to submit a `Topology` once it is defined."
   ]
  },
  {
   "cell_type": "code",
   "execution_count": null,
   "metadata": {
    "id": "3b2550af-8099-46e4-986c-9489970b0586"
   },
   "outputs": [],
   "source": [
    "from icpd_core import icpd_util\n",
    "from streamsx.topology import context\n",
    "\n",
    "try:\n",
    "    cfg = icpd_util.get_service_instance_details(name=STREAMS_INSTANCE_NAME, instance_type=\"streams\")\n",
    "except TypeError:\n",
    "    cfg = icpd_util.get_service_instance_details(name=STREAMS_INSTANCE_NAME)\n",
    "\n",
    "def submit_topology(topo):\n",
    "    print(\"Submitting Topology to Streams for execution...\")\n",
    "\n",
    "    global cfg\n",
    "    # Disable SSL certificate verification if necessary\n",
    "    cfg[context.ConfigParams.SSL_VERIFY] = False\n",
    "    # Topology wil be deployed as a distributed app\n",
    "    contextType = context.ContextTypes.DISTRIBUTED\n",
    "    submission_result = context.submit (contextType, topo, config=cfg)\n",
    "    if submission_result.job:\n",
    "        print(\"JobId: \", submission_result.job.id , \"\\nJob name: \", submission_result.job.name)\n",
    "    else:\n",
    "        print(\"Submission failed: \" + str(submission_result))\n",
    "        \n",
    "    return submission_result\n",
    "\n",
    "print(\"Setup complete\")"
   ]
  },
  {
   "cell_type": "markdown",
   "metadata": {
    "id": "fd80eff0-6ba8-44e2-b0ea-b082bd86dc22"
   },
   "source": [
    "### Define the schema\n",
    "\n",
    "To work with REST endpoints, a schema must be defined for data tuples. We create a class that inherits from typing.NamedTuple and use type annotations to specify data types for each field in the tuple."
   ]
  },
  {
   "cell_type": "code",
   "execution_count": null,
   "metadata": {
    "id": "8ad578dc-3bf9-47ad-baee-30b022cf58bd"
   },
   "outputs": [],
   "source": [
    "class Readings(typing.NamedTuple):\n",
    "    reading: float\n",
    "    index: int\n",
    "    address: str\n",
    "    timeStamp: int"
   ]
  },
  {
   "cell_type": "markdown",
   "metadata": {
    "id": "43e41a15-d203-4dce-bd0e-e68b07a2d7a2"
   },
   "source": [
    "### Define a source data generator\n",
    "We need a source for our example topology. This function generates one Readings tuple every second to use a data source."
   ]
  },
  {
   "cell_type": "code",
   "execution_count": null,
   "metadata": {
    "id": "2cbac4d9-356b-46fc-91a9-46e108a70f62"
   },
   "outputs": [],
   "source": [
    "def readings() -> typing.Iterable[Readings] :\n",
    "    counter = 0\n",
    "    while True:\n",
    "        time.sleep(1)\n",
    "        address = \"A7\" + str(random.randint(14, 40)) + \"_\"+ chr(random.randint(65,123))\n",
    "        timeStamp = int(datetime.datetime.now().timestamp())\n",
    "        yield Readings(random.randint(1,100), counter, address, timeStamp)\n",
    "        counter = counter + 1"
   ]
  },
  {
   "cell_type": "markdown",
   "metadata": {
    "id": "dc1a3239-e42b-42eb-a330-aaaac4b56d32"
   },
   "source": [
    "### Create the topology\n",
    "Using the streamsx Topology class, we create a topology and set a source that streams to a sink.\n",
    "\n",
    "The key to creating a web service which allows us to GET the result data via a REST API is the EndpointSink. Notice the topology ends with a sink. This will result in the creation of the web service instance on CPD."
   ]
  },
  {
   "cell_type": "code",
   "execution_count": null,
   "metadata": {
    "id": "0aad6ca8-5b88-4492-a633-887c888d9978"
   },
   "outputs": [],
   "source": [
    "# Use the CPD project name as the namespace\n",
    "project = os.environ[\"PROJECT_NAME\"]\n",
    "\n",
    "# Create a topology and give it a name and namespace\n",
    "sender_topology = Topology(name=\"Sample_REST_Sink\", namespace=project)\n",
    "\n",
    "# Start with a source data operator\n",
    "source = sender_topology.source(readings)\n",
    "\n",
    "# Provide service and endpoint documentation (optional)\n",
    "service_documentation={\n",
    "   'title': 'random-readings-rest-sink',\n",
    "   'description': 'RANDOM READINGS GENERATOR',\n",
    "   'version': '1.0.0',\n",
    "   'externalDocsUrl': 'https://example.com/randomreadings/doc',\n",
    "   'externalDocsDescription': 'Random readings generator documentation'\n",
    "}\n",
    "tags = dict()\n",
    "tag1 = {\n",
    "   'Output': {\n",
    "      'description': 'Output tag description',\n",
    "      'externalDocs': {\n",
    "         'url': 'https://example.com/randomreadings/output/doc',\n",
    "         'description': 'Output tag external doc description'\n",
    "      }\n",
    "   }\n",
    "}\n",
    "tags.update(tag1)\n",
    "service_documentation['tags'] = tags\n",
    "\n",
    "endpoint_documentation = dict()\n",
    "endpoint_documentation['summary'] = 'Random readings endpoint sink'\n",
    "endpoint_documentation['tags'] = ['Output']\n",
    "endpoint_documentation['description'] = 'Streams job emits some data with random readings'\n",
    "\n",
    "doc_attr = dict()\n",
    "descr = {'reading': {'description': 'Random generated reading'}}\n",
    "doc_attr.update(descr)\n",
    "descr = {'index': {'description': 'Incremental counter'}}\n",
    "doc_attr.update(descr)\n",
    "descr = {'address': {'description': 'Random generated address'}}\n",
    "doc_attr.update(descr)\n",
    "descr = {'timeStamp': {'description': 'Timestamp'}}\n",
    "doc_attr.update(descr)\n",
    "endpoint_documentation['attributeDescriptions'] = doc_attr\n",
    "\n",
    "# Add an EndpointSink with service and endpoint documentation\n",
    "# Send each tuple on the source stream to the EndpointSink operator.\n",
    "# This operator will create a REST endpoint that you can use to access the data from the stream. \n",
    "source.for_each(EndpointSink(\n",
    "    buffer_size=100000,\n",
    "    service_documentation=service_documentation,\n",
    "    endpoint_documentation=endpoint_documentation), name='Send to Job Service_Tuples')\n"
   ]
  },
  {
   "cell_type": "markdown",
   "metadata": {
    "id": "72be81e5-5f20-42c8-84af-6cc594dcc708"
   },
   "source": [
    "### Submit the application\n"
   ]
  },
  {
   "cell_type": "code",
   "execution_count": null,
   "metadata": {
    "id": "99dbcaf2-f2c0-4adf-9961-fdf9023f821e"
   },
   "outputs": [],
   "source": [
    "# The send_job_submission_result object contains information about the running application, or job\n",
    "\n",
    "send_job_submission_result = submit_topology(sender_topology)"
   ]
  },
  {
   "cell_type": "markdown",
   "metadata": {
    "id": "f41d56e66b994d688a1fde70a65fffb7"
   },
   "source": [
    "### Test the REST endpoint\n",
    "\n",
    "Now we'll try retreiving data using the REST endpoint.\n",
    "\n",
    "Once the topology is submitted, under **Instances** there will be a new entry titled `<streams-instance-name>.<space_name>.<job id>`.\n",
    "\n",
    "E.g. if the submitted job has id 4 and the Streams instance is called `sample-instance`, and you used the default Streams space, then there will be an entry like `sample-instance.sample-instance.4` in the list of instances.\n",
    "\n",
    "Click that entry to get to the Swagger page for the REST service, which will list the URL for the GET endpoint and also allow you to try retrieving data from the Streams job.\n",
    "\n",
    "The full URL to retrieve data from the application you just submitted will be `CPD_URL` + `GET_ENDPOINT`.\n"
   ]
  },
  {
   "cell_type": "code",
   "execution_count": null,
   "metadata": {
    "id": "5a11cb27b0ae48d4b8ad9cba8a435177"
   },
   "outputs": [],
   "source": [
    "# Edit this GET_ENDPOINT to set the value you get from the Swagger UI\n",
    "GET_ENDPOINT = \"<your-get-endpoint>\"\n",
    "# Edit this BASE_CPD_URL to set the URL of your CPD\n",
    "BASE_CPD_URL = \"<your-cpd-url>\"\n",
    "\n",
    "ENDPOINT = BASE_CPD_URL + GET_ENDPOINT"
   ]
  },
  {
   "cell_type": "markdown",
   "metadata": {
    "id": "47f9aa67-16a9-4bf0-a305-7a49aabd85f4"
   },
   "source": [
    "### Test the GET endpoint"
   ]
  },
  {
   "cell_type": "code",
   "execution_count": null,
   "metadata": {
    "id": "0395a81537a4442c85a1697625525f6e"
   },
   "outputs": [],
   "source": [
    "import requests\n",
    "import time\n",
    "with requests.Session() as s:\n",
    "    s.auth=(USERNAME, PASSWORD)\n",
    "    s.cookies = requests.cookies.RequestsCookieJar()\n",
    "\n",
    "    last_mod = 0\n",
    "    for i in range(2):\n",
    "        rsp = s.get(ENDPOINT, verify=False, headers={'If-Modified-Since-Milliseconds': str(last_mod)})\n",
    "        if rsp.status_code != 200:\n",
    "            print(rsp.text)\n",
    "            print(rsp)\n",
    "            break\n",
    "        items =  rsp.json()['items']\n",
    "        print(items)\n",
    "        last_mod = int(rsp.headers['Last-Modified-Milliseconds'])\n",
    "        time.sleep(1.0)"
   ]
  },
  {
   "cell_type": "markdown",
   "metadata": {
    "id": "cc2c75a0713c4c979aedd780f21c961b"
   },
   "source": [
    "## Cancel the job and instance\n"
   ]
  },
  {
   "cell_type": "code",
   "execution_count": null,
   "metadata": {
    "id": "1064cc84676942f78f4d18a6f2682fa4",
    "scrolled": true
   },
   "outputs": [],
   "source": [
    "# To cancel without the button use: send_job_submission_result.job.cancel()\n",
    "send_job_submission_result.cancel_job_button()"
   ]
  },
  {
   "cell_type": "markdown",
   "metadata": {
    "id": "de8a87e1-355a-4422-92a8-f5a51baff704"
   },
   "source": [
    "#  Example 2: Create a Streams application that ingests data via REST\n",
    "\n",
    "This application will use the `EndpointSource` operator to receive streaming data via POST requests. It receives a number, doubles it, and sends the new value back out via  the `EndpointSink`."
   ]
  },
  {
   "cell_type": "markdown",
   "metadata": {
    "id": "6bd142bf-7717-47e7-a9d7-e028fdc77db4"
   },
   "source": [
    "### Define the schema\n",
    "\n",
    "To work with REST endpoints, a schema must be defined for data tuples. We create a class that inherits from typing.NamedTuple and use type annotations to specify data types for each field in the tuple.\n",
    "\n",
    "In this example, we define a schema for both the incoming data that and the outgoing data."
   ]
  },
  {
   "cell_type": "code",
   "execution_count": null,
   "metadata": {
    "id": "f84739b7-3eab-487b-b448-162c97e83f45"
   },
   "outputs": [],
   "source": [
    "# Define the schema of the incoming data\n",
    "class IncomingReadings(typing.NamedTuple):\n",
    "    index: int\n",
    "    ID: str\n",
    "    timeStamp: datetime.datetime\n",
    "\n",
    "# Define the schema of the outgoing data\n",
    "class DoubledReading(typing.NamedTuple):\n",
    "    doubled_value: int\n",
    "    index: int\n",
    "    ID: str\n",
    "    timeStamp: datetime.datetime"
   ]
  },
  {
   "cell_type": "code",
   "execution_count": null,
   "metadata": {
    "id": "a5824261f9014444999d3477b2c5724e"
   },
   "outputs": [],
   "source": [
    "\n",
    "def double_value(data):\n",
    "    doubled_value = data.index*2\n",
    "    return DoubledReading(doubled_value, data.index, data.ID, data.timeStamp)\n",
    "\n",
    "# Use the CPD project name as the namespace\n",
    "project = os.environ[\"PROJECT_NAME\"]\n",
    "reciever_topology = Topology(name=\"Sample_REST_Source\", namespace=project)\n",
    "\n",
    "service_documentation={\n",
    "   'title': 'double-rest-source',\n",
    "   'description': 'SOURCE READINGS GENERATOR',\n",
    "   'version': '1.0.0'\n",
    "}\n",
    "endpoint_documentation = {\n",
    "   'summary': 'Readings endpoint source',\n",
    "   'description': 'Readings endpoint source to be doubled'\n",
    "}\n",
    "\n",
    "# Invoke the EndpointSource operator as the data source\n",
    "source_operator = reciever_topology.source(EndpointSource(\n",
    "   schema=IncomingReadings,\n",
    "   buffer_size=10000,\n",
    "   service_documentation=service_documentation,\n",
    "   endpoint_documentation=endpoint_documentation), name='IngestData')\n",
    "\n",
    "incoming = source_operator\n",
    "\n",
    "# Add a doubled value\n",
    "doubled = incoming.map(double_value, schema=DoubledReading)\n",
    "\n",
    "# Provide service and endpoint documentation (optional)\n",
    "service_documentation={\n",
    "   'title': 'doubled-rest-sink',\n",
    "   'description': 'DOUBLED READINGS GENERATOR',\n",
    "   'version': '1.0.0',\n",
    "   'externalDocsUrl': 'https://example.com/doubledreadings/doc',\n",
    "   'externalDocsDescription': 'Doubled readings generator documentation'\n",
    "}\n",
    "tags = dict()\n",
    "tag1 = {\n",
    "   'Output': {\n",
    "      'description': 'Output tag description',\n",
    "      'externalDocs': {\n",
    "         'url': 'https://example.com/doubledreadings/output/doc',\n",
    "         'description': 'Output tag external doc description'\n",
    "      }\n",
    "   }\n",
    "}\n",
    "tags.update(tag1)\n",
    "service_documentation['tags'] = tags\n",
    "\n",
    "endpoint_documentation = dict()\n",
    "endpoint_documentation['summary'] = 'Doubled readings endpoint sink'\n",
    "endpoint_documentation['tags'] = ['Output']\n",
    "endpoint_documentation['description'] = 'Streams job emits data with doubled readings'\n",
    "\n",
    "doc_attr = dict()\n",
    "descr = {'doubled_value': {'description': 'Doubled reading'}}\n",
    "doc_attr.update(descr)\n",
    "descr = {'index': {'description': 'Incremental counter'}}\n",
    "doc_attr.update(descr)\n",
    "descr = {'ID': {'description': 'Identifier'}}\n",
    "doc_attr.update(descr)\n",
    "descr = {'timeStamp': {'description': 'Timestamp'}}\n",
    "doc_attr.update(descr)\n",
    "endpoint_documentation['attributeDescriptions'] = doc_attr\n",
    "\n",
    "# Add an EndpointSink with service and endpoint documentation\n",
    "# Make the result available via REST (GET)\n",
    "doubled.for_each(EndpointSink(\n",
    "    buffer_size=100000,\n",
    "    service_documentation=service_documentation,\n",
    "    endpoint_documentation=endpoint_documentation), name='Send Back To Job Service')\n",
    "\n",
    "# Create a view to see the result data\n",
    "result_view = doubled.view(name=\"Preview of Result data\")"
   ]
  },
  {
   "cell_type": "markdown",
   "metadata": {
    "id": "63bce36104d34f5981cabf9e20fdb9cc"
   },
   "source": [
    "## Submit the ingest application"
   ]
  },
  {
   "cell_type": "code",
   "execution_count": null,
   "metadata": {
    "id": "c7a3612346ed44d18041306aa8a44a9e"
   },
   "outputs": [],
   "source": [
    "ingest_job_submission_result = submit_topology(reciever_topology)"
   ]
  },
  {
   "cell_type": "markdown",
   "metadata": {
    "id": "82f4a673487145978357d43af4533d44"
   },
   "source": [
    "## Send some data to the Streams job\n",
    "Find the POST endpoint for the Receive job, from CPD, go to  Services > Instances and you will see something like `instance_name.instance_name.jobid` where jobid is the job id printed above.\n",
    "\n",
    "Click that entry and you'll see the POST endpoint for the job.\n",
    "Copy the POST endpoint and paste it below where indicated.\n"
   ]
  },
  {
   "cell_type": "code",
   "execution_count": null,
   "metadata": {
    "id": "0147d1009e164a389495929fc9eb2cab"
   },
   "outputs": [],
   "source": [
    "# Edit this POST_ENDPOINT to set the value you get from the Swagger UI\n",
    "POST_ENDPOINT = \"<your-post-endpoint>\"\n",
    "\n",
    "# Edit this BASE_CPD_URL to set the URL of your CPD (in case you didn't set it earlier)\n",
    "# BASE_CPD_URL = \"<your-cpd-url>\"\n",
    "\n",
    "ENDPOINT = BASE_CPD_URL + POST_ENDPOINT"
   ]
  },
  {
   "cell_type": "code",
   "execution_count": null,
   "metadata": {
    "id": "0411b80f05a9450c81b883472fe2bdeb"
   },
   "outputs": [],
   "source": [
    "import threading\n",
    "import json\n",
    "import requests\n",
    "DURATION = 20 # How long to send data to the streams app for, in seconds\n",
    "                            \n",
    "def send_data():\n",
    "    print('POSTing data to the Streams app')\n",
    "    url = ENDPOINT\n",
    "    with requests.Session() as s:\n",
    "        s.auth = (USERNAME, PASSWORD)\n",
    "        s.cookies = requests.cookies.RequestsCookieJar()\n",
    "        numItems = 999 # send 1000 at a time\n",
    "        # We set the buffer size to hold 10000 so we should not lose any data\n",
    "        counter = 1\n",
    "        for i in range(DURATION):\n",
    "            items = []\n",
    "            for i in range(numItems):\n",
    "                stamp = datetime.datetime.utcnow().strftime(\"%Y-%m-%dT%H:%M:%S.%f\")[:-3]+\"+0000\"\n",
    "                items.append(dict(index=counter, timeStamp=stamp, ID=chr(65+(counter%10))))\n",
    "                counter = counter+ 1\n",
    "\n",
    "            req_data = json.dumps(dict(items=items))\n",
    "            rsp = s.post(url, data=req_data, headers={\"Content-Type\": \"application/json\"}, verify=False)\n",
    "            #print(req_data)\n",
    "            if rsp.status_code != 204:\n",
    "                message = \"Error sending data: %s\" % rsp.text\n",
    "                print(message)\n",
    "                break\n",
    "            time.sleep(2.0)\n",
    "\n",
    "\n",
    "from IPython.lib import backgroundjobs as bg\n",
    "jobs = bg.BackgroundJobManager()\n",
    "jobs.new(send_data)"
   ]
  },
  {
   "cell_type": "markdown",
   "metadata": {
    "id": "4370d18c8fb044138c6a15854e33a6d5"
   },
   "source": [
    "## Use a view to see the data sent to the application\n",
    "Run the cell below to see a sample of the data you sent via REST and of the modified stream. \n",
    "If no data is returned, that means you need to resend more data to the Streams application by rerunning the above cell. \n",
    "This is because Views only return a sample of the data _currently flowing through the application_. You can also increase the `DURATION` to send data for longer period of time."
   ]
  },
  {
   "cell_type": "code",
   "execution_count": null,
   "metadata": {
    "id": "1a6fd2ce6368462d8da508f0d20961f6"
   },
   "outputs": [],
   "source": [
    "queue = result_view.start_data_fetch()\n",
    "for i in range(30):\n",
    "    print(queue.get(timeout=30))\n",
    "result_view.stop_data_fetch()"
   ]
  },
  {
   "cell_type": "markdown",
   "metadata": {
    "id": "fcd150ed3e454d9786b293cc905579e6"
   },
   "source": [
    "## Preview the result data"
   ]
  },
  {
   "cell_type": "code",
   "execution_count": null,
   "metadata": {
    "id": "4358fc7bee804e348e3e99fce7bb6931"
   },
   "outputs": [],
   "source": [
    "result_view.display(duration=20)"
   ]
  },
  {
   "cell_type": "markdown",
   "metadata": {
    "id": "9a5efa99bd2f48f188fc215c90cccf6e"
   },
   "source": [
    "## Cancel the job and instance\n"
   ]
  },
  {
   "cell_type": "code",
   "execution_count": null,
   "metadata": {
    "id": "84ca49226de0489380b3afe38f6e1770"
   },
   "outputs": [],
   "source": [
    "ingest_job_submission_result.cancel_job_button()"
   ]
  }
 ],
 "metadata": {
  "kernelspec": {
   "display_name": "Python 3.6",
   "language": "python",
   "name": "python3"
  },
  "language_info": {
   "codemirror_mode": {
    "name": "ipython",
    "version": 3
   },
   "file_extension": ".py",
   "mimetype": "text/x-python",
   "name": "python",
   "nbconvert_exporter": "python",
   "pygments_lexer": "ipython3",
   "version": "3.6.10"
  }
 },
 "nbformat": 4,
 "nbformat_minor": 1
}
