{
 "cells": [
  {
   "cell_type": "markdown",
   "metadata": {},
   "source": [
    "# Using WMLA Elastic Distributed Training via API - a sample notebook"
   ]
  },
  {
   "cell_type": "markdown",
   "metadata": {},
   "source": [
    "<div class=\"alert alert-block alert-info\">\n",
    "\n",
    "\n",
    "### Contents\n",
    "\n",
    "- [The big picture](#The-big-picture)\n",
    "- [Changes to your code](#Changes-to-your-code)\n",
    "- [Making dataset available](#Making-dataset-available)\n",
    "- [Set up API end point and log on](#Set-up-API-end-point-and-log-on)\n",
    "- [Submit job via API](#Submit-job-via-API)\n",
    "- [Monitor running job](#Monitor-running-job)\n",
    "- [Retrieve output and saved models](#Retrieve-output-and-saved-models)\n",
    "  - [Output - Retrieve training output](#Output:--Retrieve-Training-Metric)\n",
    "  - [Save Models](#Save-Model)\n",
    "- [Debugging any issues](#Debugging-any-issues)\n",
    "- [Further information and useful links](#Further-information-and-useful-links)\n",
    "- [Appendix](#Appendix)\n",
    "\n",
    "\n",
    "</div>"
   ]
  },
  {
   "cell_type": "markdown",
   "metadata": {},
   "source": [
    "<div class=\"alert alert-block alert-danger\">\n",
    "\n",
    "Final things to do:\n",
    "- add link to Learning Journey blog in sections: \"The big picture\" and \"Changes to your code\"\n",
    "</div>"
   ]
  },
  {
   "cell_type": "markdown",
   "metadata": {},
   "source": [
    "## The big picture\n",
    "[Back to top](#Contents)\n",
    "\n",
    "This notebook details the process of taking your existing model training code and making the changes required to run the code using [IBM Watson Machine Learning](https://developer.ibm.com/linuxonpower/deep-learning-powerai/powerai-enterprise/) (WMLA) using Elastic Distributed Training. \n",
    "\n",
    "<span style='color:deeppink'>**TODO:** Link to Learning Journey Blog</span>\n",
    "\n",
    "The image below shows the various elements required to use EDT. In this notebook we will step through each of these elements in more detail. Through this process you will offload your code to a WMLA cluster, monitor the running job, retrieve the output and debug any issues seen. A [static version](https://github.com/IBM/wmla-assets/raw/master/WMLA-learning-journey/shared-images/5_running_job.png) is also available.\n",
    "\n",
    "![overall](https://github.com/IBM/wmla-assets/raw/master/WMLA-learning-journey/shared-images/5_running_job.gif)"
   ]
  },
  {
   "cell_type": "markdown",
   "metadata": {},
   "source": [
    "## Changes to your code\n",
    "[Back to top](#Contents)\n",
    "\n",
    "In this section we will take existing sample code and make the relevant changes required for use with EDT. An overview of these changes can be seen in the diagram below. A [static version](https://github.com/IBM/wmla-assets/raw/master/WMLA-learning-journey/shared-images/2_code_adaptations.png) is also available.\n",
    "\n",
    "![code](https://github.com/IBM/wmla-assets/raw/master/WMLA-learning-journey/shared-images/2_code_adaptations.gif)\n",
    "\n"
   ]
  },
  {
   "cell_type": "markdown",
   "metadata": {},
   "source": [
    "The key changes to your code in order to use EDT are the following:\n",
    "- Importing libraries and setting up environment variables\n",
    "- Data loading function for EDT\n",
    "- Extract parameters for training\n",
    "- Replace training and testing loops with EDT equivalents\n",
    "\n",
    "For the purpose of this tutorial we have adapted the following RestNet18 model for use with EDT: https://pytorch.org/tutorials/beginner/transfer_learning_tutorial.html\n",
    "\n",
    "Please see the blog associated with this notebook with more detailed explanation of the above changes.\n",
    "\n",
    "<span style='color:deeppink'>**TODO:** Add link to Learning Journey blog in line above</span>\n",
    "\n",
    "You can find the original code `pytorch_mnist.py` and the updated code `pytorch_mnist_EDT.py` in the zip file `pytorch_edt.tar.gz` contained in the [tutorial repository](https://github.com/IBM/wmla-assets/raw/master/WMLA-learning-journey/elastic-distributed-training-module/pytorch_edt.tar.gz).\n",
    "\n",
    "You can run the following command to observe relative changes:\n",
    "`diff -U4 pytorch_mnist.py pytorch_mnist_EDT.py`\n",
    "\n",
    "Your modified code should be made available in a directory which also contains the EDT helper scripts: `edtcallback.py`, `emetrics.py` and `elog.py`. Sample versions can be found in the tarball in the tutorial repository; additionally they can be downloaded from http://ibm.biz/WMLA-samples.  "
   ]
  },
  {
   "cell_type": "markdown",
   "metadata": {},
   "source": [
    "## Making dataset available\n",
    "[Back to top](#Contents)\n",
    "\n",
    "Next we will make our dataset available to the WMLA cluster as seen in the diagram below. \n",
    "\n",
    "![data](https://github.com/IBM/wmla-assets/raw/master/WMLA-learning-journey/shared-images/3_dataset.png)"
   ]
  },
  {
   "cell_type": "markdown",
   "metadata": {},
   "source": [
    "1. Ask your system admin the path of $DLI_DATA_FS directory\n",
    "\n",
    "2. ssh to WMLA-server and get access to $DLI_DATA_FS\n",
    "```\n",
    "\n",
    "\n",
    "3. Download dataset\n",
    "\n",
    "```\n",
    "[WMLA-server dlidata]# wget https://download.pytorch.org/tutorial/hymenoptera_data.zip\n",
    "\n",
    "Resolving download.pytorch.org... 99.86.230.63, 99.86.230.94, 99.86.230.13, ...\n",
    "Connecting to download.pytorch.org|99.86.230.63|:443... connected.\n",
    "HTTP request sent, awaiting response... 200 OK\n",
    "Length: 47286322 (45M) [application/zip]\n",
    "Saving to: 'hymenoptera_data.zip'\n",
    "\n",
    "hymenoptera_data.zip          100%[================================================>]  45.10M  11.0MB/s    in 4.5s    \n",
    "\n",
    "2020-02-19 17:01:52 (10.1 MB/s) - 'hymenoptera_data.zip' saved [47286322/47286322]\n",
    "\n",
    "[WMLA-server dlidata]# unzip hymenoptera_data.zip\n",
    "\n",
    "```\n",
    "\n",
    "4. Unzip the zip file and modify file owner/group, that is equivalent to Instance Group Execution User (in this case it is egoadmin)\n",
    "```\n",
    "[WMLA-server dlidata]# chown -R egoadmin:egoadmin hymenopteradata/\n",
    "[WMLA-server hymenopteradata]# pwd\n",
    "/dlidata/hymenopteradata\n",
    "[WMLA-server hymenopteradata]# ls -lt\n",
    "total 0\n",
    "drwxr-x--- 4 egoadmin egoadmin 34 Jan  7 23:54 MNIST\n",
    "drwxr-xr-x 4 egoadmin egoadmin 30 Jan  7 23:08 val\n",
    "drwxr-xr-x 4 egoadmin egoadmin 30 Jan  7 23:08 train\n",
    "```\n",
    "\n",
    "5. Take note of the path name of this dataset, note that your path will likely be different that seen here.\n",
    "```\n",
    "/dlidata/hymenopteradata\n",
    "```\n"
   ]
  },
  {
   "cell_type": "markdown",
   "metadata": {},
   "source": [
    "## Set up API end point and log on\n",
    "[Back to top](#Contents)\n",
    "\n",
    "In this section we set up the API endpoint which will be used in this notebook."
   ]
  },
  {
   "cell_type": "markdown",
   "metadata": {},
   "source": [
    "1. Source the environment\n",
    "\n",
    "$EGO_TOP is the installation directory.  The default value is /opt/ibm/spectrumcomputing\n",
    "\n",
    "```\n",
    ". $EGO_TOP/profile.platform\n",
    "\n",
    "```\n",
    "2. Login\n",
    "\n",
    "```\n",
    "egosh user logon -u <wmla_user>\n",
    "Logged on successfully\n",
    "\n",
    "```\n",
    "\n",
    "3. Retrieve Conductor Rest API Port\n",
    "\n",
    "```\n",
    "egosh client view |grep -A 3 ASCD_REST_BASE_URL_1\n",
    "CLIENT NAME: ASCD_REST_BASE_URL_1\n",
    "DESCRIPTION: http://<WMLA-server>:8280/platform/rest/\n",
    "\n",
    "```\n",
    "\n",
    "4.  Retrieve DLI (Deep Learning Impact) Rest API Port\n",
    "\n",
    "```\n",
    "egosh client view |grep -A 3 DLPD_REST_BASE_URL_1\n",
    "CLIENT NAME: DLPD_REST_BASE_URL_1\n",
    "DESCRIPTION: http://<WMLA-server>:9280/platform/rest/\n",
    "\n",
    "```\n",
    "\n",
    "5.  Note that the port numbers in your URL will depend on whether SSL has been enabled or not\n",
    "\n"
   ]
  },
  {
   "cell_type": "markdown",
   "metadata": {},
   "source": [
    "## Submit job via API\n",
    "[Back to top](#Contents)\n",
    "\n",
    "Now we need to structure our API job submission. There are various elements to this process as seen in the diagram below. Note that **this** jupyter notebook is the one referred to below. A [static version](https://github.com/IBM/wmla-assets/raw/master/WMLA-learning-journey/shared-images/4_api_setup.png) is also available.\n",
    "\n",
    "![code](https://github.com/IBM/wmla-assets/raw/master/WMLA-learning-journey/shared-images/4_api_setup.gif)\n"
   ]
  },
  {
   "cell_type": "markdown",
   "metadata": {},
   "source": [
    "The following sections use the Watson ML Accelerator API to complete the various tasks required. \n",
    "We've given examples of a number of tasks but you should refer to the documentation at to see more details \n",
    "of what is possible and sample output you might expect.\n",
    "\n",
    "- https://www.ibm.com/support/knowledgecenter/SSFHA8_1.2.1/cm/deeplearning.html\n",
    "- https://www.ibm.com/support/knowledgecenter/SSZU2E_2.4.0/reference_s/api_references.html"
   ]
  },
  {
   "cell_type": "code",
   "execution_count": 1,
   "metadata": {},
   "outputs": [],
   "source": [
    "import requests, json\n",
    "import pandas as pd\n",
    "import datetime\n",
    "# from IPython.display import display\n",
    "\n",
    "import matplotlib.pyplot as plt\n",
    "import matplotlib.dates as mdates\n",
    "%matplotlib inline\n",
    "# plt.rcParams['figure.figsize'] = [24, 8.0]\n",
    "import seaborn as sns\n",
    "\n",
    "pd.set_option('display.max_columns', 999)\n",
    "pd.set_option('max_colwidth', 300)\n",
    "\n",
    "import tarfile\n",
    "import tempfile\n",
    "import os\n"
   ]
  },
  {
   "cell_type": "code",
   "execution_count": null,
   "metadata": {},
   "outputs": [],
   "source": [
    "#Construct API call\n",
    "\n",
    "master_host = 'your_server'\n",
    "\n",
    "\n",
    "dli_rest_port = '9280'  #Deep Learning Impact Rest API Port\n",
    "sc_rest_port = '8280' #Conductor Rest API Port\n",
    "\n",
    "sc_rest_url = 'http://'+master_host+':'+sc_rest_port+'/platform/rest/conductor/v1'\n",
    "dl_rest_url = 'http://'+master_host+':'+dli_rest_port+'/platform/rest/deeplearning/v1'\n",
    "\n",
    "# User login details\n",
    "wmla_user = '**** ADD HERE ****'\n",
    "wmla_pwd = '**** ADD HERE ****'\n",
    "\n",
    "\n",
    "\n",
    "myauth = (wmla_user, wmla_pwd)\n",
    "\n",
    "\n",
    "# Instance Group to be used\n",
    "sig_name =  '***ADD Here***'\n",
    "\n",
    "\n",
    "# REST call variables\n",
    "headers = {'Accept': 'application/json'}\n",
    "print (sc_rest_url)\n",
    "print (dl_rest_url)\n",
    "\n",
    "# Model Path\n",
    "#model_path = '<path_to_your_local_model_directory>'\n",
    "model_path = '/Users/Kelvin/Github/wmla-assets/WMLA-learning-journey/pytorch_edt'"
   ]
  },
  {
   "cell_type": "markdown",
   "metadata": {},
   "source": [
    "### Package model files for training\n",
    "Package the updated model files into a tar file ending with `.modelDir.tar`"
   ]
  },
  {
   "cell_type": "code",
   "execution_count": 3,
   "metadata": {},
   "outputs": [
    {
     "name": "stdout",
     "output_type": "stream",
     "text": [
      " tempFile: /var/folders/l8/5dhpt4mn5zs6rjblzhlxp5300000gp/T/tmps68rshhk.modelDir.tar\n"
     ]
    }
   ],
   "source": [
    "def make_tarfile(output_filename, source_dir):\n",
    "    with tarfile.open(output_filename, \"w:gz\") as tar:\n",
    "        tar.add(source_dir, arcname=os.path.basename(source_dir))\n",
    "\n",
    "\n",
    "MODEL_DIR_SUFFIX = \".modelDir.tar\"\n",
    "tempFile = tempfile.mktemp(MODEL_DIR_SUFFIX)\n",
    "make_tarfile(tempFile, model_path)\n",
    "print(\" tempFile: \" + tempFile)\n",
    "files = {'file': open(tempFile, 'rb')}"
   ]
  },
  {
   "cell_type": "markdown",
   "metadata": {},
   "source": [
    "### Log on\n",
    "\n",
    "\n",
    "Obtain login session tokens to be used for session authentication within the RESTful API. Tokens are valid for 8 hours."
   ]
  },
  {
   "cell_type": "code",
   "execution_count": 4,
   "metadata": {},
   "outputs": [
    {
     "name": "stdout",
     "output_type": "stream",
     "text": [
      "\n",
      "Logon succeeded\n"
     ]
    }
   ],
   "source": [
    "r = requests.get(sc_rest_url+'/auth/logon', verify=False, auth=myauth, headers=headers) \n",
    "\n",
    "if r.ok:\n",
    "    print ('\\nLogon succeeded')\n",
    "    \n",
    "else: \n",
    "    print('\\nLogon failed with code={}, {}'. format(r.status_code, r.content))"
   ]
  },
  {
   "cell_type": "markdown",
   "metadata": {},
   "source": [
    "### Check DL Frameworks details\n",
    "\n",
    "Check what framework plugins are available and see example execution commands.  In this demonstration we will use **edtPyTorch**"
   ]
  },
  {
   "cell_type": "code",
   "execution_count": 5,
   "metadata": {},
   "outputs": [
    {
     "name": "stdout",
     "output_type": "stream",
     "text": [
      "[\n",
      "    {\n",
      "        \"name\": \"edtKeras\",\n",
      "        \"description\": \"\",\n",
      "        \"desc\": [\n",
      "            \"Keras - IBM Elastic Distributed Training (EDT)\",\n",
      "            \"Examples:\",\n",
      "            \"$ python dlicmd.py --exec-start edtKeras <connection-options> --ig <ig> --cs-datastore-meta type=fs,data_path=mnist --model-main mnist.py\"\n",
      "        ]\n",
      "    },\n",
      "    {\n",
      "        \"name\": \"edtPyTorch\",\n",
      "        \"description\": \"\",\n",
      "        \"desc\": [\n",
      "            \"PyTorch - IBM Elastic Distributed Training (EDT)\",\n",
      "            \"Examples:\",\n",
      "            \"$ python dlicmd.py --exec-start edtPyTorch <connection-options> --ig <ig> --cs-datastore-meta type=fs,data_path=mnist --model-main mnist.py\"\n",
      "        ]\n",
      "    },\n",
      "    {\n",
      "        \"name\": \"tensorflow1100\",\n",
      "        \"description\": \"\",\n",
      "        \"desc\": [\n",
      "            \"Single-node TensorFlow. Tested for Tensorflow 1.10.0.\",\n",
      "            \"NOTES:\",\n",
      "            \"- Since DLI manages GPU allocation, if you explicitly assign devices using\",\n",
      "            \"  calls such as `tf.device`, you should use Tensorflow configuration flag\",\n",
      "            \"  `allow_soft_placement=True`\",\n",
      "            \"Examples:\",\n",
      "            \"$ python dlicmd.py --exec-start tensorflow1100 <connection-options> --ig <ig> --cs-datastore-meta type=fs,data_path=mnist --model-main mnist.py\"\n",
      "        ]\n",
      "    },\n",
      "    {\n",
      "        \"name\": \"PyTorch\",\n",
      "        \"description\": \"\",\n",
      "        \"desc\": [\n",
      "            \"PyTorch\",\n",
      "            \"Examples:\",\n",
      "            \"$ python dlicmd.py --exec-start PyTorch <connection-options> --ig <ig> --cs-datastore-meta type=fs,data_path=mnist --model-main mnist.py\"\n",
      "        ]\n",
      "    },\n",
      "    {\n",
      "        \"name\": \"PowerAICaffeIBM\",\n",
      "        \"description\": \"\",\n",
      "        \"desc\": [\n",
      "            \"IBM PowerAI IBM Caffe\",\n",
      "            \"NOTES:\",\n",
      "            \"-You must specify --model-dir flag to point to a directory containing both solver\",\n",
      "            \" and network files, and in the solver file, the path for the network file must not be \",\n",
      "            \" a full path.\",\n",
      "            \"-Other paths such as snapshot, data source, in solver and network files must be\",\n",
      "            \" on a shared file system.\",\n",
      "            \"-Caffe's --gpu option will be overriden with 'all' since DLI allocates \",\n",
      "            \" and manages GPUs. Use --gpuPerWorker option as shown below to request for number of GPUs.\",\n",
      "            \" Currently max gpuPerWorker is set to 2.\",\n",
      "            \"Examples:\",\n",
      "            \"$ python dlicmd.py --exec-start PowerAICaffeIBM <connection-options> --ig <ig> --cs-datastore-meta type=fs,data_path=mnist --model-dir <model-dir> --model-main lenet_solver.prototxt train\",\n",
      "            \"$ python dlicmd.py --exec-start PowerAICaffeIBM <connection-options> --ig <ig> --cs-datastore-meta type=fs,data_path=mnist --gpuPerWorker 2 --model-dir <model-dir> --model-main lenet_solver.prototxt train\"\n",
      "        ]\n",
      "    },\n",
      "    {\n",
      "        \"name\": \"ddlTensorFlow\",\n",
      "        \"description\": \"\",\n",
      "        \"desc\": [\n",
      "            \"Tensorflow - IBM PowerAI Distributed Deep Learning (DDL)\",\n",
      "            \"Notes:\",\n",
      "            \"  - Always use --exclusive option, in which case also make\",\n",
      "            \"    sure resource plans are configured appropriately\",\n",
      "            \"  - Need to specify --numWorker to number of GPUs to be allocated\",\n",
      "            \"  - Need to specify --accelerators to number of learners on each host\",\n",
      "            \"  - Use --model-dir to specify folder containing the model files\",\n",
      "            \"  - Use --model-main to specify the solver file\",\n",
      "            \"  - Use _QUOTE_ to pass strings with spaces as parameters\",\n",
      "            \"  - Do not pass host options such as -rf, --rankfile, -host, -machinefile, etc ...\",\n",
      "            \"    since rankfiles are automatically generated\",\n",
      "            \"Examples:\",\n",
      "            \"$ python dlicmd.py --exec-start  ddlTensorFlow --exclusive --master-host <masterHost> --ig <ig> --cs-datastore-meta type=fs,data_path=datapath \",\n",
      "            \"  --numWorker 4 --mpiarg --allow-run-as-root --accelerators 2 python --model-main ddl_mnist.py\",\n",
      "            \"  --ddl_opts=_QUOTE_-mode r:2_QUOTE_ \"\n",
      "        ]\n",
      "    },\n",
      "    {\n",
      "        \"name\": \"tensorflow\",\n",
      "        \"description\": \"\",\n",
      "        \"desc\": [\n",
      "            \"Single-node TensorFlow\",\n",
      "            \"NOTES:\",\n",
      "            \"- Since DLI manages GPU allocation, if you explicitly assign devices using\",\n",
      "            \"  calls such as `tf.device`, you should use Tensorflow configuration flag\",\n",
      "            \"  `allow_soft_placement=True`\",\n",
      "            \"Examples:\",\n",
      "            \"$ python dlicmd.py --exec-start tensorflow <connection-options> --ig <ig> --cs-datastore-meta type=fs,data_path=mnist --model-main mnist.py\"\n",
      "        ]\n",
      "    },\n",
      "    {\n",
      "        \"name\": \"ddlCaffe\",\n",
      "        \"description\": \"\",\n",
      "        \"desc\": [\n",
      "            \"Caffe - IBM PowerAI Distributed Deep Learning (DDL)\",\n",
      "            \"Notes:\",\n",
      "            \"  - Always use --exclusive option, in which case also make\",\n",
      "            \"    sure resource plans are configured appropriately\",\n",
      "            \"  - Need to specify --numWorker to number of GPUs to be allocated\",\n",
      "            \"  - Need to specify --accelerators to number of learners on each host\",\n",
      "            \"  - Use --model-dir to specify folder containing the model files\",\n",
      "            \"  - Use --model-main to specify the solver file\",\n",
      "            \"  - Use _QUOTE_ to pass strings with spaces as parameters\",\n",
      "            \"  - Do not pass host options such as -rf, --rankfile, -host, -machinefile, etc ...\",\n",
      "            \"    since rankfiles are automatically generated\",\n",
      "            \"Examples:\",\n",
      "            \"$ python dlicmd.py --exec-start ddlCaffe --exclusive --master-host <masterHost> --ig <ig> --cs-datastore-meta type=fs,data_path=datapath \",\n",
      "            \"  --numWorker 4 --mpiarg --allow-run-as-root --accelerators 4 caffe train\",\n",
      "            \"  --model-main lenet_solver.prototxt --model-dir <modelDir>\",\n",
      "            \"  -ddl_update\"\n",
      "        ]\n",
      "    },\n",
      "    {\n",
      "        \"name\": \"PyTorch041\",\n",
      "        \"description\": \"\",\n",
      "        \"desc\": [\n",
      "            \"PyTorch041. Tested for torch version 0.4.1.\",\n",
      "            \"Examples:\",\n",
      "            \"$ python dlicmd.py --exec-start PyTorch041 <connection-options> --ig <ig> --cs-datastore-meta type=fs,data_path=mnist --model-main mnist.py\"\n",
      "        ]\n",
      "    },\n",
      "    {\n",
      "        \"name\": \"keras\",\n",
      "        \"description\": \"\",\n",
      "        \"desc\": [\n",
      "            \"Keras\",\n",
      "            \"Examples:\",\n",
      "            \"$ python dlicmd.py --exec-start keras <connection-options> --ig <ig> --cs-datastore-meta type=fs,data_path=mnist --model-main keras_mnist_cnn.py\"\n",
      "        ]\n",
      "    },\n",
      "    {\n",
      "        \"name\": \"disttensorflow\",\n",
      "        \"description\": \"\",\n",
      "        \"desc\": [\n",
      "            \"Distributed TensorFlow\",\n",
      "            \"Instead of passing parameters such as ps_hosts, worker_hosts, specify --numPs\",\n",
      "            \"as in example below. Parameter servers (ps) and worker hosts will be allocated\",\n",
      "            \"dynamically.\",\n",
      "            \"Use --gpuPerWorker flag to specify number of GPUs per worker.\",\n",
      "            \"The maximum number of worker is 2.\",\n",
      "            \"The maximum number of GPUs per worker is 2.\",\n",
      "            \"Examples:\",\n",
      "            \"$ python dlicmd.py --exec-start disttensorflow <connection-options> --ig <ig> --cs-datastore-meta type=fs,data_path=mnist --model-main mnist.py --numPs 1 --numWorker 1 --gpuPerWorker 1\",\n",
      "            \"$ python dlicmd.py --exec-start disttensorflow <connection-options> --ig <ig> --cs-datastore-meta type=fs,data_path=mnist --model-main mnist.py --numPs 1 --numWorker 2 --gpuPerWorker 1\"\n",
      "        ]\n",
      "    },\n",
      "    {\n",
      "        \"name\": \"tensorflow200_alpha\",\n",
      "        \"description\": \"\",\n",
      "        \"desc\": [\n",
      "            \"Single-node TensorFlow 2.0 preview\",\n",
      "            \"Examples:\",\n",
      "            \"$ python dlicmd.py --exec-start tensorflow20_preview <connection-options> --ig <ig> --cs-datastore-meta type=fs,data_path=mnist --model-main mnist.py\"\n",
      "        ]\n",
      "    }\n",
      "]\n"
     ]
    }
   ],
   "source": [
    "r = requests.get(dl_rest_url+'/execs/frameworks', auth=myauth, headers=headers, verify=False).json()\n",
    "# Using the raw json, easier to see the examples given\n",
    "print(json.dumps(r, indent=4))"
   ]
  },
  {
   "cell_type": "markdown",
   "metadata": {},
   "source": [
    "### Arguments for API call\n",
    "Equivalent of flags used if running command directly on WMLA CLI, including:\n"
   ]
  },
  {
   "cell_type": "code",
   "execution_count": 6,
   "metadata": {},
   "outputs": [
    {
     "name": "stdout",
     "output_type": "stream",
     "text": [
      "args: --exec-start edtPyTorch         --cs-datastore-meta type=fs,data_path=hymenoptera_data         --model-dir pytorch_edt         --edt-options maxWorkers=2         --model-main pytorch_mnist_EDT.py         --epochs 15          \n"
     ]
    }
   ],
   "source": [
    "framework_name = 'edtPyTorch' # DL Framework to use, from list given above\n",
    "dataset_location = 'hymenoptera_data' # relative path of your data set under $DLI_DATA_FS\n",
    "local_dir_containing_your_code = 'pytorch_edt'\n",
    "number_of_GPU = '2' # number of GPUs for elastic distribution\n",
    "name_of_your_code_file = 'pytorch_mnist_EDT.py' # Main model file as opened locally above\n",
    "\n",
    "\n",
    "args = '--exec-start {} \\\n",
    "        --cs-datastore-meta type=fs,data_path={} \\\n",
    "        --model-dir {} \\\n",
    "        --edt-options maxWorkers={} \\\n",
    "        --model-main {} \\\n",
    "        --epochs 15  \\\n",
    "        '.format(framework_name, dataset_location, local_dir_containing_your_code, number_of_GPU, name_of_your_code_file)\n",
    "\n",
    "print (\"args: \" + args)"
   ]
  },
  {
   "cell_type": "markdown",
   "metadata": {},
   "source": [
    "### Submit Job"
   ]
  },
  {
   "cell_type": "code",
   "execution_count": 7,
   "metadata": {},
   "outputs": [
    {
     "name": "stdout",
     "output_type": "stream",
     "text": [
      "\n",
      "Model submitted successfully \\Driver ID: driver-20200226230826-0006-541692d7-0d72-4ccc-b313-ece4c02b0749\n",
      "Exec ID: dse_user-8441795619854284-1826555330\n",
      "SIG ID: b32772fa-ee79-4fb5-bb99-3a9f231d6daa\n"
     ]
    }
   ],
   "source": [
    "r = requests.post(dl_rest_url+'/execs?sigName='+sig_name+'&args='+args, files=files,\n",
    "                  auth=myauth, headers=headers, verify=False)\n",
    "\n",
    "if r.ok:\n",
    "    exec_id = r.json()['id']\n",
    "    sig_id = r.json()['sigId']\n",
    "    driver_id = r.json()['submissionId']\n",
    "    print ('\\nModel submitted successfully \\Driver ID: {}'.format(driver_id))\n",
    "    print ('Exec ID: {}'.format(exec_id))\n",
    "    print ('SIG ID: {}'.format(sig_id))\n",
    "else: \n",
    "    print('\\nModel submission failed with code={}, {}'. format(r.status_code, r.content))"
   ]
  },
  {
   "cell_type": "markdown",
   "metadata": {},
   "source": [
    "## Monitor running job\n",
    "[Back to top](#Contents)\n",
    "\n",
    "Once the job is submitted successfully we can monitor the running job. \n",
    "\n"
   ]
  },
  {
   "cell_type": "code",
   "execution_count": 8,
   "metadata": {},
   "outputs": [
    {
     "data": {
      "text/html": [
       "<div>\n",
       "<style scoped>\n",
       "    .dataframe tbody tr th:only-of-type {\n",
       "        vertical-align: middle;\n",
       "    }\n",
       "\n",
       "    .dataframe tbody tr th {\n",
       "        vertical-align: top;\n",
       "    }\n",
       "\n",
       "    .dataframe thead th {\n",
       "        text-align: right;\n",
       "    }\n",
       "</style>\n",
       "<table border=\"1\" class=\"dataframe\">\n",
       "  <thead>\n",
       "    <tr style=\"text-align: right;\">\n",
       "      <th></th>\n",
       "      <th>Driver ID</th>\n",
       "      <th>State</th>\n",
       "      <th>Run duration (mins)</th>\n",
       "      <th>GPU slots</th>\n",
       "      <th>Total GPU memory used</th>\n",
       "      <th>Total GPU utilsation (%)</th>\n",
       "    </tr>\n",
       "  </thead>\n",
       "  <tbody>\n",
       "    <tr>\n",
       "      <td>0</td>\n",
       "      <td>driver-20200226230826-0006-541692d7-0d72-4ccc-b313-ece4c02b0749</td>\n",
       "      <td>RUNNING</td>\n",
       "      <td>0.44205</td>\n",
       "      <td>2</td>\n",
       "      <td>0</td>\n",
       "      <td>0.0</td>\n",
       "    </tr>\n",
       "  </tbody>\n",
       "</table>\n",
       "</div>"
      ],
      "text/plain": [
       "                                                         Driver ID    State  \\\n",
       "0  driver-20200226230826-0006-541692d7-0d72-4ccc-b313-ece4c02b0749  RUNNING   \n",
       "\n",
       "   Run duration (mins)  GPU slots Total GPU memory used  \\\n",
       "0              0.44205          2                     0   \n",
       "\n",
       "  Total GPU utilsation (%)   \n",
       "0                       0.0  "
      ]
     },
     "execution_count": 8,
     "metadata": {},
     "output_type": "execute_result"
    }
   ],
   "source": [
    "# Check status of all RUNNING jobs in SIG (rerun cell to refresh)\n",
    "\n",
    "monitor = []\n",
    "monitor_output = []\n",
    "\n",
    "r = requests.get(sc_rest_url+'/instances/'+sig_id+'/applications?state=RUNNING', \n",
    "                auth=myauth, headers=headers, verify=False).json()\n",
    "\n",
    "\n",
    "       \n",
    "if (len(r) == 0):\n",
    "    print ('No jobs running')\n",
    "    \n",
    "else:\n",
    "    \n",
    "    # Filter out the relevant information\n",
    "    monitor.append([(\n",
    "        job['driver']['id'],\n",
    "        job['driver']['state'],\n",
    "        job['apprunduration'],\n",
    "        job['gpuslots'],\n",
    "        job['gpumemused']['total'],\n",
    "        job['gpudevutil']['total'],\n",
    "    ) for job in r])\n",
    "\n",
    "    monitor_output = pd.DataFrame([item for monitor in monitor for item in monitor])\n",
    "    monitor_output.columns = [\n",
    "        'Driver ID', \n",
    "        'State', \n",
    "        'Run duration (mins)',\n",
    "        'GPU slots',\n",
    "        'Total GPU memory used',\n",
    "        'Total GPU utilsation (%) ',\n",
    "    ]\n",
    "    \n",
    "    for job in r:\n",
    "        executors = job['executors']\n",
    "        \n",
    "\n",
    "monitor_output"
   ]
  },
  {
   "cell_type": "markdown",
   "metadata": {},
   "source": [
    "## Retrieve output and saved models\n",
    "[Back to top](#Contents)\n",
    "\n",
    "After the job completes then we can retrieve the output, logs and saved models. \n",
    "\n"
   ]
  },
  {
   "cell_type": "markdown",
   "metadata": {},
   "source": [
    "### Output:  Retrieve Training Metric\n",
    "\n"
   ]
  },
  {
   "cell_type": "code",
   "execution_count": 23,
   "metadata": {},
   "outputs": [
    {
     "data": {
      "text/html": [
       "<div>\n",
       "<style scoped>\n",
       "    .dataframe tbody tr th:only-of-type {\n",
       "        vertical-align: middle;\n",
       "    }\n",
       "\n",
       "    .dataframe tbody tr th {\n",
       "        vertical-align: top;\n",
       "    }\n",
       "\n",
       "    .dataframe thead th {\n",
       "        text-align: right;\n",
       "    }\n",
       "</style>\n",
       "<table border=\"1\" class=\"dataframe\">\n",
       "  <thead>\n",
       "    <tr style=\"text-align: right;\">\n",
       "      <th></th>\n",
       "      <th>timestamp</th>\n",
       "      <th>global_steps</th>\n",
       "      <th>iteration</th>\n",
       "      <th>loss</th>\n",
       "      <th>accuracy</th>\n",
       "      <th>timestamp2</th>\n",
       "    </tr>\n",
       "  </thead>\n",
       "  <tbody>\n",
       "    <tr>\n",
       "      <td>0</td>\n",
       "      <td>1582776528089</td>\n",
       "      <td>1</td>\n",
       "      <td>2</td>\n",
       "      <td>-0.00331</td>\n",
       "      <td>0.00469</td>\n",
       "      <td>2020-02-27 04:08:48.089</td>\n",
       "    </tr>\n",
       "    <tr>\n",
       "      <td>1</td>\n",
       "      <td>1582776528188</td>\n",
       "      <td>2</td>\n",
       "      <td>3</td>\n",
       "      <td>-0.00411</td>\n",
       "      <td>0.00500</td>\n",
       "      <td>2020-02-27 04:08:48.188</td>\n",
       "    </tr>\n",
       "    <tr>\n",
       "      <td>2</td>\n",
       "      <td>1582776528648</td>\n",
       "      <td>3</td>\n",
       "      <td>4</td>\n",
       "      <td>-0.10689</td>\n",
       "      <td>0.00594</td>\n",
       "      <td>2020-02-27 04:08:48.648</td>\n",
       "    </tr>\n",
       "    <tr>\n",
       "      <td>3</td>\n",
       "      <td>1582776529037</td>\n",
       "      <td>4</td>\n",
       "      <td>0</td>\n",
       "      <td>-0.38318</td>\n",
       "      <td>0.00750</td>\n",
       "      <td>2020-02-27 04:08:49.037</td>\n",
       "    </tr>\n",
       "    <tr>\n",
       "      <td>4</td>\n",
       "      <td>1582776531404</td>\n",
       "      <td>5</td>\n",
       "      <td>2</td>\n",
       "      <td>-0.66788</td>\n",
       "      <td>0.00741</td>\n",
       "      <td>2020-02-27 04:08:51.404</td>\n",
       "    </tr>\n",
       "    <tr>\n",
       "      <td>5</td>\n",
       "      <td>1582776531835</td>\n",
       "      <td>6</td>\n",
       "      <td>3</td>\n",
       "      <td>-0.74936</td>\n",
       "      <td>0.00722</td>\n",
       "      <td>2020-02-27 04:08:51.835</td>\n",
       "    </tr>\n",
       "    <tr>\n",
       "      <td>6</td>\n",
       "      <td>1582776532272</td>\n",
       "      <td>7</td>\n",
       "      <td>4</td>\n",
       "      <td>-1.00945</td>\n",
       "      <td>0.00746</td>\n",
       "      <td>2020-02-27 04:08:52.272</td>\n",
       "    </tr>\n",
       "    <tr>\n",
       "      <td>7</td>\n",
       "      <td>1582776532629</td>\n",
       "      <td>8</td>\n",
       "      <td>0</td>\n",
       "      <td>-2.13695</td>\n",
       "      <td>0.00712</td>\n",
       "      <td>2020-02-27 04:08:52.629</td>\n",
       "    </tr>\n",
       "    <tr>\n",
       "      <td>8</td>\n",
       "      <td>1582776534637</td>\n",
       "      <td>9</td>\n",
       "      <td>2</td>\n",
       "      <td>-2.50100</td>\n",
       "      <td>0.00733</td>\n",
       "      <td>2020-02-27 04:08:54.637</td>\n",
       "    </tr>\n",
       "    <tr>\n",
       "      <td>9</td>\n",
       "      <td>1582776535066</td>\n",
       "      <td>10</td>\n",
       "      <td>3</td>\n",
       "      <td>-2.61111</td>\n",
       "      <td>0.00711</td>\n",
       "      <td>2020-02-27 04:08:55.066</td>\n",
       "    </tr>\n",
       "  </tbody>\n",
       "</table>\n",
       "</div>"
      ],
      "text/plain": [
       "       timestamp  global_steps  iteration     loss  accuracy  \\\n",
       "0  1582776528089             1          2 -0.00331   0.00469   \n",
       "1  1582776528188             2          3 -0.00411   0.00500   \n",
       "2  1582776528648             3          4 -0.10689   0.00594   \n",
       "3  1582776529037             4          0 -0.38318   0.00750   \n",
       "4  1582776531404             5          2 -0.66788   0.00741   \n",
       "5  1582776531835             6          3 -0.74936   0.00722   \n",
       "6  1582776532272             7          4 -1.00945   0.00746   \n",
       "7  1582776532629             8          0 -2.13695   0.00712   \n",
       "8  1582776534637             9          2 -2.50100   0.00733   \n",
       "9  1582776535066            10          3 -2.61111   0.00711   \n",
       "\n",
       "               timestamp2  \n",
       "0 2020-02-27 04:08:48.089  \n",
       "1 2020-02-27 04:08:48.188  \n",
       "2 2020-02-27 04:08:48.648  \n",
       "3 2020-02-27 04:08:49.037  \n",
       "4 2020-02-27 04:08:51.404  \n",
       "5 2020-02-27 04:08:51.835  \n",
       "6 2020-02-27 04:08:52.272  \n",
       "7 2020-02-27 04:08:52.629  \n",
       "8 2020-02-27 04:08:54.637  \n",
       "9 2020-02-27 04:08:55.066  "
      ]
     },
     "execution_count": 23,
     "metadata": {},
     "output_type": "execute_result"
    }
   ],
   "source": [
    "r = requests.get(dl_rest_url+'/execs/'+exec_id+'/log', auth=myauth, headers=headers, verify=False).json()\n",
    "\n",
    "from io import StringIO\n",
    "\n",
    "cols = ['timestamp','global_steps','iteration','loss','accuracy']\n",
    "final_data = pd.read_csv(StringIO(r.replace(':',',')), \n",
    "                 usecols=[4,6,8,10,12], \n",
    "                 names=cols)\n",
    "final_data['timestamp2'] = final_data.timestamp.apply(pd.to_datetime, unit='ms')\n",
    "final_data.head(10)"
   ]
  },
  {
   "cell_type": "code",
   "execution_count": 37,
   "metadata": {},
   "outputs": [
    {
     "data": {
      "image/png": "[encoded data removed]",
      "text/plain": [
       "<Figure size 1080x720 with 4 Axes>"
      ]
     },
     "metadata": {
      "needs_background": "light"
     },
     "output_type": "display_data"
    }
   ],
   "source": [
    "import matplotlib.pyplot as plt\n",
    "import matplotlib.dates as mdates\n",
    "%matplotlib inline\n",
    "# plt.rcParams['figure.figsize'] = [24, 8.0]\n",
    "import seaborn as sns\n",
    "\n",
    "fig, axes = plt.subplots(2, 2, figsize = (15,10))\n",
    "\n",
    "sns.lineplot(final_data.timestamp2,final_data.global_steps, color=\"g\", ax=axes[0,0])\n",
    "axes[0,0].xaxis.set_major_formatter(mdates.DateFormatter('%H:%M'))\n",
    "axes[0,0].set_xlabel(\"Time\")\n",
    "\n",
    "sns.lineplot(final_data.global_steps,final_data.loss, color=\"r\", ax=axes[0,1])\n",
    "sns.lineplot(final_data.global_steps,final_data.accuracy, color=\"b\", ax=axes[1,0])\n",
    "\n",
    "axes[1,1].axes.get_xaxis().set_visible(False)\n",
    "axes[1,1].axes.get_yaxis().set_visible(False)\n",
    "axes[1,1].text(0.05, 0.8, 'ID: '+exec_id, size=14)\n",
    "axes[1,1].text(0.05, 0.65, 'SIG: '+sig_name, size=14)\n",
    "#axes[1,1].text(0.05, 0.55, 'Status: '+status, size=14)\n",
    "\n",
    "plt.show()"
   ]
  },
  {
   "cell_type": "markdown",
   "metadata": {},
   "source": [
    "### Save Model"
   ]
  },
  {
   "cell_type": "code",
   "execution_count": 10,
   "metadata": {},
   "outputs": [
    {
     "data": {
      "application/vnd.jupyter.widget-view+json": {
       "model_id": "eb096a95d7764aabaf3b3c50d8abb2f1",
       "version_major": 2,
       "version_minor": 0
      },
      "text/plain": [
       "HBox(children=(IntProgress(value=0, max=83036808), HTML(value='')))"
      ]
     },
     "metadata": {},
     "output_type": "display_data"
    },
    {
     "name": "stdout",
     "output_type": "stream",
     "text": [
      "\n"
     ]
    }
   ],
   "source": [
    "# Get model from training job - downloads zip file (with progress bar) of saved model to directory local to this notebook\n",
    "# (note that you need to save model in your code using the environment variable for location)\n",
    "\n",
    "import requests, zipfile, io\n",
    "from tqdm.notebook import tqdm\n",
    "\n",
    "r = requests.get(dl_rest_url+'/execs/'+exec_id+'/result', auth=myauth, stream=True)\n",
    "\n",
    "total_size = int(r.headers.get('Content-Disposition').split('size=')[1])\n",
    "block_size = 1024 #1 Kibibyte\n",
    "t=tqdm(total=total_size, unit='iB', unit_scale=True)\n",
    "\n",
    "with open('model.zip', 'wb') as f:\n",
    "    for data in r.iter_content(block_size):\n",
    "        t.update(len(data))\n",
    "        f.write(data)\n",
    "t.close()"
   ]
  },
  {
   "cell_type": "markdown",
   "metadata": {},
   "source": [
    "## Debugging any issues\n",
    "[Back to top](#Contents)\n",
    "\n",
    "In the case where you have issues during the process detailed above, there are a number of detailed logs that you can view to understand what is happening on the WMLA cluster.\n",
    "\n",
    "WMLA leverages Spark architecture for distributing Deep Learning/Machine Learning jobs.  In Spark,  when an item of processing has to be done, there is a “driver” process that is in charge of taking the user’s code and converting it into a set of multiple tasks. There are also “executor” processes, each operating on a separate node in the cluster, that are in charge of running the tasks, as delegated by the driver.\n",
    "\n",
    "You can monitor Deep Learning/Machine Learning application activity,  performance and resource usage in Driver Log & Executor Log.\n",
    "- Driver Log captures issues related to dependencies and environment variable,  for example,  missing dataset or invalid execution parameter flags.\n",
    "- Executor Log records Deep Learning/Machine Learning training process. \n",
    "\n"
   ]
  },
  {
   "cell_type": "markdown",
   "metadata": {},
   "source": [
    "### Retrieve Training Driver Stdout Log"
   ]
  },
  {
   "cell_type": "code",
   "execution_count": null,
   "metadata": {},
   "outputs": [],
   "source": [
    "# Get Spectrum Conductor logs for training run - shows various information including environment variables\n",
    "\n",
    "r = requests.get(sc_rest_url+'/instances/'+sig_id+'/applications/'+driver_id+'/logs/stdout/download',\n",
    "                 auth=myauth, headers={'Accept': 'application/octet-stream'}, verify=False)\n",
    "\n",
    "print(r.text)\n"
   ]
  },
  {
   "cell_type": "markdown",
   "metadata": {},
   "source": [
    "Note that the output from the training can be found in the `$DLI_WORK_DIR` referenced in this log, in the directory *under* `batchworkdir`. The structure of the files contained in this directory (which you will access via the API) are the following.\n",
    "\n",
    "```\n",
    "$ tree -h\n",
    ".\n",
    "├── [   6]  checkpoint\n",
    "├── [ 247]  log\n",
    "│   ├── [   6]  0-97eb84d4-6e4b-4bb7-95e0-fc7bfda461dc.<wmla_server>\n",
    "│   ├── [   6]  1-a111dd6d-c406-48f2-89ce-1ef526d5b34b.<wmla_server>\n",
    "│   └── [  50]  driver-20200227104231-0007-3655c5b5-5d81-43ac-a8c6-c243635f60df.<wmla_server>\n",
    "│       ├── [ 19K]  evaluation-metrics.txt\n",
    "│       └── [7.1K]  stdout\n",
    "├── [  19]  model\n",
    "│   └── [ 214]  train\n",
    "│       ├── [4.7K]  model_epoch_10_optimizer_state.pth\n",
    "│       ├── [ 43M]  model_epoch_10.pth\n",
    "│       ├── [4.7K]  model_epoch_5_optimizer_state.pth\n",
    "│       ├── [ 43M]  model_epoch_5.pth\n",
    "│       ├── [4.7K]  model_epoch_final_optimizer_state.pth\n",
    "│       └── [ 43M]  model_epoch_final.pth\n",
    "├── [  25]  _submitted_code\n",
    "│   └── [ 133]  pytorch_edt\n",
    "│       ├── [1.6K]  edtcallback.py\n",
    "│       ├── [2.0K]  elog.py\n",
    "│       ├── [4.1K]  emetrics.py\n",
    "│       ├── [  67]  __pycache__\n",
    "│       │   ├── [2.0K]  edtcallback.cpython-36.pyc\n",
    "│       │   └── [2.4K]  elog.cpython-36.pyc\n",
    "│       ├── [3.1K]  pytorch_mnist_EDT.py\n",
    "│       └── [4.4K]  pytorch_mnist.py\n",
    "└── [2.5K]  val_dict_list.json\n",
    "```"
   ]
  },
  {
   "cell_type": "markdown",
   "metadata": {},
   "source": [
    "### Retrieve Training Driver Stderr Log"
   ]
  },
  {
   "cell_type": "code",
   "execution_count": null,
   "metadata": {},
   "outputs": [],
   "source": [
    "# shows various information including environment variables\n",
    "\n",
    "r = requests.get(sc_rest_url+'/instances/'+sig_id+'/applications/'+driver_id+'/logs/stderr/download',\n",
    "                 auth=myauth, headers={'Accept': 'application/octet-stream'}, verify=False)\n",
    "\n",
    "print(r.text)"
   ]
  },
  {
   "cell_type": "markdown",
   "metadata": {},
   "source": [
    "### Retrieve Training Executor Log\n",
    "#### Retrieve Executor ID\n",
    "- The deep learning training log per GPU is written in executor log\n",
    "- Execute following code to retrieve list of executor ID"
   ]
  },
  {
   "cell_type": "code",
   "execution_count": 13,
   "metadata": {},
   "outputs": [
    {
     "name": "stdout",
     "output_type": "stream",
     "text": [
      "executors: 1-a5c6d934-df3d-4b3e-8a9d-87ee8d168910\n",
      "executors: 0-c4e8bb3c-b35e-4c1f-82cc-42437e46bbd8\n"
     ]
    }
   ],
   "source": [
    "for key in executors:    \n",
    "    print ('executors: ' + key['id'])"
   ]
  },
  {
   "cell_type": "markdown",
   "metadata": {},
   "source": [
    "### Retrieve Executor Stdout log\n",
    "- set the parameter executor_id"
   ]
  },
  {
   "cell_type": "code",
   "execution_count": null,
   "metadata": {},
   "outputs": [],
   "source": [
    "executor_id = '1-a5c6d934-df3d-4b3e-8a9d-87ee8d168910'\n",
    "\n",
    "r = requests.get(sc_rest_url+'/instances/'+sig_id+'/applications/'+driver_id +'/'+executor_id+'/logs/stdout/download',\n",
    "                 auth=myauth, headers={'Accept': 'application/octet-stream'}, verify=False)\n",
    "\n",
    "print(r.text)\n",
    "\n"
   ]
  },
  {
   "cell_type": "markdown",
   "metadata": {},
   "source": [
    "### Retrieve Executor Stderr log\n",
    "- set the parameter executor_id"
   ]
  },
  {
   "cell_type": "code",
   "execution_count": null,
   "metadata": {},
   "outputs": [],
   "source": [
    "executor_id = '1-a5c6d934-df3d-4b3e-8a9d-87ee8d168910'\n",
    "\n",
    "r = requests.get(sc_rest_url+'/instances/'+sig_id+'/applications/'+driver_id +'/'+executor_id+'/logs/stderr/download',\n",
    "                 auth=myauth, headers={'Accept': 'application/octet-stream'}, verify=False)\n",
    "\n",
    "print(r.text)"
   ]
  },
  {
   "cell_type": "markdown",
   "metadata": {},
   "source": [
    "## Further information and useful links\n",
    "[Back to top](#Contents)\n",
    "\n",
    "**WMLA Introductory videos:**\n",
    "- WMLA overview video (6 mins): http://ibm.biz/WMLA-video\n",
    "- WMLA getting started (3 mins): http://ibm.biz/WMLA-start\n",
    "- Overview of adapting your code for Elastic Distributed Training via API: [video](https://youtu.be/RnZtYNX6meM) | [PDF](docs/wmla_api_pieces.pdf) (screenshot below)\n",
    "\n",
    "**Further WMLA information & documentation**\n",
    "- [Power Developer Portal (WMLCE frameworks information)](https://developer.ibm.com/linuxonpower/deep-learning-powerai/releases/)\n",
    "- WMLA tutorials: http://ibm.biz/WMLA-blog\n",
    "- Knowledge Centre links:\n",
    "  - [IBM Watson Machine Learning Accelerator](https://www.ibm.com/support/knowledgecenter/SSFHA8)\n",
    "  - [IBM Spectrum Conductor](https://www.ibm.com/support/knowledgecenter/en/SSZU2E/product_welcome_conductorspark.html)\n",
    "  - [IBM Spectrum Conductor Deep Learning Impact](https://www.ibm.com/support/knowledgecenter/SSWQ2D)\n",
    "\n",
    "**Further Power Systems information**\n",
    "- [AI on Power Systems Redbook (PDF)](https://www.redbooks.ibm.com/redbooks/pdfs/sg248435.pdf) (deep dive technical information)"
   ]
  },
  {
   "cell_type": "markdown",
   "metadata": {},
   "source": [
    "## Appendix\n",
    "[Back to top](#Contents)\n",
    "\n",
    "#### This notebook requires Watson ML Accelerator 1.2.1 + Interim Fix 527174 & 536919 to run.\n",
    "For details please refer to following link:\n",
    "https://www.ibm.com/support/knowledgecenter/en/SSFHA8_1.2.1/wmla_fix_pack.html\n",
    "\n",
    "#### This is version 1.0 and its content is copyright of IBM.   All rights reserved.   \n",
    "\n",
    "\n"
   ]
  }
 ],
 "metadata": {
  "kernelspec": {
   "display_name": "Python 3",
   "language": "python",
   "name": "python3"
  },
  "language_info": {
   "codemirror_mode": {
    "name": "ipython",
    "version": 3
   },
   "file_extension": ".py",
   "mimetype": "text/x-python",
   "name": "python",
   "nbconvert_exporter": "python",
   "pygments_lexer": "ipython3",
   "version": "3.7.4"
  }
 },
 "nbformat": 4,
 "nbformat_minor": 2
}
